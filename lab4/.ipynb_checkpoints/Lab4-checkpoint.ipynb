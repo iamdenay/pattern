{
 "cells": [
  {
   "cell_type": "markdown",
   "metadata": {},
   "source": [
    "# Fuzzy logic introduction\n",
    "## Installation: \n",
    "* pip install -U scikit-fuzzy\n",
    "* pip install networkx==1.3\n",
    "    * networkx==2.0 has drastical changes in the code\n",
    "\n",
    "## Tasks:\n",
    "* Make the tip recommendation system more interactive with annotator\n",
    "* Make more fine grained levels, i.e. (bad,descent,great) -> (poor,bad,average,descent,great) and add rules for them\n",
    "* Add new Antecednets variable: interior, quota and add rules for them\n"
   ]
  },
  {
   "cell_type": "markdown",
   "metadata": {},
   "source": [
    "# The Tipping Problem\n",
    "Taking the tipping example full circle, if we were to create a controller which estimates the tip we should give at a restaurant, we might structure it as such:\n",
    "\n",
    "## Antecednets (Inputs)\n",
    "* service\n",
    "    * Universe (ie, crisp value range): How good was the service of the waitress, on a scale of 1 to 10?\n",
    "    * Fuzzy set (ie, fuzzy value range): poor, acceptable, amazing\n",
    "* food quality\n",
    "    * Universe: How tasty was the food, on a scale of 1 to 10?\n",
    "    * Fuzzy set: bad, decent, great\n",
    "\n",
    "## Consequents (Outputs)\n",
    "* tip\n",
    "    * Universe: How much should we tip, on a scale of 0% to 25%\n",
    "    * Fuzzy set: low, medium, high\n",
    "* Rules\n",
    "    * IF the service was good or the food quality was good, THEN the tip will be high.\n",
    "    * IF the service was average, THEN the tip will be medium.\n",
    "    * IF the service was poor and the food quality was poor THEN the tip will be low.\n",
    "* Usage\n",
    "    * If I tell this controller that I rated:\n",
    "        * the service as 9.8, and\n",
    "        * the quality as 6.5,\n",
    "    * it would recommend I leave:\n",
    "        * a 20.2% tip."
   ]
  },
  {
   "cell_type": "code",
   "execution_count": 1,
   "metadata": {},
   "outputs": [],
   "source": [
    "import numpy as np\n",
    "import skfuzzy as fuzz\n",
    "from skfuzzy import control as ctrl\n",
    "from ipywidgets import interact_manual\n",
    "\n",
    "# New Antecedent/Consequent objects hold universe variables and membership\n",
    "# functions\n",
    "interior = ctrl.Antecedent(np.arange(0, 11, 1), 'interior')\n",
    "quality = ctrl.Antecedent(np.arange(0, 11, 1), 'quality')\n",
    "service = ctrl.Antecedent(np.arange(0, 11, 1), 'service')\n",
    "lang = ctrl.Antecedent(np.arange(0, 11, 1), 'lang')\n",
    "tip = ctrl.Consequent(np.arange(0, 26, 1), 'tip')\n",
    "\n",
    "# Auto-membership function population is possible with .automf(3, 5, or 7)\n",
    "quality.automf(5)\n",
    "service.automf(5)\n",
    "interior.automf(5)\n",
    "lang.automf(5)\n",
    "\n",
    "\n",
    "\n",
    "# Custom membership functions can be built interactively with a familiar,\n",
    "# Pythonic API\n",
    "tip['poor'] = fuzz.trimf(tip.universe, [0, 0, 7])\n",
    "tip['mediocre'] = fuzz.trimf(tip.universe, [0, 7, 13])\n",
    "tip['average'] = fuzz.trimf(tip.universe, [7, 13, 19])\n",
    "tip['decent'] = fuzz.trimf(tip.universe, [13, 19, 25])\n",
    "tip['good'] = fuzz.trimf(tip.universe, [19, 25, 25])"
   ]
  },
  {
   "cell_type": "code",
   "execution_count": 2,
   "metadata": {},
   "outputs": [
    {
     "name": "stderr",
     "output_type": "stream",
     "text": [
      "/anaconda2/lib/python2.7/site-packages/matplotlib/figure.py:403: UserWarning: matplotlib is currently using a non-GUI backend, so cannot show the figure\n",
      "  \"matplotlib is currently using a non-GUI backend, \"\n"
     ]
    },
    {
     "data": {
      "image/png": "[encoded data removed]",
      "text/plain": [
       "<matplotlib.figure.Figure at 0x10fd68d90>"
      ]
     },
     "metadata": {},
     "output_type": "display_data"
    }
   ],
   "source": [
    "# You can see how these look with .view()\n",
    "%matplotlib inline\n",
    "quality.view()"
   ]
  },
  {
   "cell_type": "code",
   "execution_count": 3,
   "metadata": {},
   "outputs": [],
   "source": [
    "rule1 = ctrl.Rule(quality['poor'] | service['poor'], tip['poor'])\n",
    "rule2 = ctrl.Rule((quality['poor'] | service['poor']) & (lang['good'] | interior['good']), tip['mediocre'])\n",
    "rule3 = ctrl.Rule(quality['mediocre'] | service['mediocre'], tip['mediocre'])\n",
    "rule4 = ctrl.Rule((quality['mediocre'] | service['mediocre']) & (lang['good'] | interior['good']), tip['average'])\n",
    "rule5 = ctrl.Rule(service['average'] | quality['average'], tip['average'])\n",
    "rule6 = ctrl.Rule((quality['average'] | service['average']) & (lang['good'] | interior['good']), tip['decent'])\n",
    "rule7 = ctrl.Rule(service['decent'] | quality['decent'], tip['decent'])\n",
    "rule8 = ctrl.Rule((quality['decent'] | service['decent']) & (lang['good'] | interior['good']), tip['good'])\n",
    "rule9 = ctrl.Rule(service['good'] | quality['good'], tip['good'])"
   ]
  },
  {
   "cell_type": "code",
   "execution_count": 4,
   "metadata": {},
   "outputs": [
    {
     "data": {
      "application/vnd.jupyter.widget-view+json": {
       "model_id": "5230c25297494643b44013995ae2ccc1",
       "version_major": 2,
       "version_minor": 0
      },
      "text/plain": [
       "A Jupyter Widget"
      ]
     },
     "metadata": {},
     "output_type": "display_data"
    }
   ],
   "source": [
    "\n",
    "@interact_manual\n",
    "def get_input(qual=6.5, serv=6.5, lang=6.5, inter=6.5):\n",
    "    tipping_ctrl = ctrl.ControlSystem([rule1, rule2, rule3,rule4,rule5,rule6,rule7,rule8,rule9])\n",
    "    tipping = ctrl.ControlSystemSimulation(tipping_ctrl)\n",
    "    tipping.input['quality'] = qual\n",
    "    tipping.input['service'] = serv\n",
    "    tipping.input['interior'] = inter\n",
    "    tipping.input['lang'] = lang\n",
    "    tipping.compute()\n",
    "    print('Recommended tip', tipping.output['tip'])\n",
    "    tip.view(sim=tipping)\n",
    "\n",
    "        "
   ]
  },
  {
   "cell_type": "code",
   "execution_count": null,
   "metadata": {
    "collapsed": true
   },
   "outputs": [],
   "source": [
    "\n",
    "\n",
    "\n"
   ]
  },
  {
   "cell_type": "code",
   "execution_count": null,
   "metadata": {
    "collapsed": true
   },
   "outputs": [],
   "source": []
  },
  {
   "cell_type": "code",
   "execution_count": null,
   "metadata": {
    "collapsed": true
   },
   "outputs": [],
   "source": []
  }
 ],
 "metadata": {
  "anaconda-cloud": {},
  "kernelspec": {
   "display_name": "Python 2",
   "language": "python",
   "name": "python2"
  },
  "language_info": {
   "codemirror_mode": {
    "name": "ipython",
    "version": 2
   },
   "file_extension": ".py",
   "mimetype": "text/x-python",
   "name": "python",
   "nbconvert_exporter": "python",
   "pygments_lexer": "ipython2",
   "version": "2.7.13"
  }
 },
 "nbformat": 4,
 "nbformat_minor": 2
}

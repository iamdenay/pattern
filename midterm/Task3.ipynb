{
 "cells": [
  {
   "cell_type": "code",
   "execution_count": 2,
   "metadata": {},
   "outputs": [
    {
     "name": "stdout",
     "output_type": "stream",
     "text": [
      "Yes\n"
     ]
    }
   ],
   "source": [
    "from pyDatalog import pyDatalog\n",
    "import logging\n",
    "from pyDatalog import pyEngine\n",
    "pyEngine.Logging = False\n",
    "logging.basicConfig(level=logging.INFO)\n",
    "\n",
    "# Trying to get into the task\n",
    "\n",
    "pyDatalog.create_terms('X,Y,Z,married,parent,grandparent') # Creating terms\n",
    "\n",
    "+married(\"me\", \"wife\") # Adding relations\n",
    "+married(\"father\", \"daughter\")\n",
    "+parent(\"father\", \"me\")\n",
    "+parent(\"wife\", \"daughter\")\n",
    "+parent(\"me\", \"son\")\n",
    "+parent(\"wife\", \"son\")\n",
    "+parent(\"father\", \"fatherson\")\n",
    "+parent(\"daughter\", \"fatherson\") \n",
    "\n",
    "married(X, Y) <= married(Y, X)\n",
    "parent(Z, Y) <= parent(X, Y) & married(X, Z)\n",
    "grandparent(X, Y) <= parent(Z, Y) & parent(X, Z)\n",
    "\n",
    "if(grandparent(\"me\", \"me\")):\n",
    "    print('Yes')\n",
    "\n",
    "\n"
   ]
  },
  {
   "cell_type": "code",
   "execution_count": null,
   "metadata": {
    "collapsed": true
   },
   "outputs": [],
   "source": []
  }
 ],
 "metadata": {
  "kernelspec": {
   "display_name": "Python 2",
   "language": "python",
   "name": "python2"
  },
  "language_info": {
   "codemirror_mode": {
    "name": "ipython",
    "version": 2
   },
   "file_extension": ".py",
   "mimetype": "text/x-python",
   "name": "python",
   "nbconvert_exporter": "python",
   "pygments_lexer": "ipython2",
   "version": "2.7.13"
  }
 },
 "nbformat": 4,
 "nbformat_minor": 2
}

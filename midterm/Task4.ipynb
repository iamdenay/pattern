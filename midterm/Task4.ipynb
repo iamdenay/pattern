{
 "cells": [
  {
   "cell_type": "code",
   "execution_count": 3,
   "metadata": {},
   "outputs": [
    {
     "data": {
      "application/vnd.jupyter.widget-view+json": {
       "model_id": "8f22ffee7038497a958a84a77890d823",
       "version_major": 2,
       "version_minor": 0
      },
      "text/plain": [
       "A Jupyter Widget"
      ]
     },
     "metadata": {},
     "output_type": "display_data"
    }
   ],
   "source": [
    "import numpy as np\n",
    "import skfuzzy as fuzz\n",
    "from skfuzzy import control as ctrl\n",
    "from ipywidgets import interact_manual\n",
    "\n",
    "\n",
    "distance = ctrl.Antecedent(np.arange(0, 140, 1), 'distance')\n",
    "color = ctrl.Antecedent(np.arange(0, 6, 1), 'color')\n",
    "speed = ctrl.Antecedent(np.arange(0, 200, 1), 'speed')\n",
    "delta = ctrl.Consequent(np.arange(0, 200, 1), 'delta')\n",
    "\n",
    "distance.automf(names=[\"far\",\"mid\", \"near\"])\n",
    "\n",
    "speed['zero'] = fuzz.trimf(speed.universe, [0, 0, 0])\n",
    "speed['slow'] = fuzz.trimf(speed.universe, [0, 20, 40])\n",
    "speed['can_pass'] = fuzz.trimf(speed.universe, [20, 40, 60])\n",
    "speed['comfortable'] = fuzz.trimf(speed.universe, [40, 60, 80])\n",
    "speed['too_fast'] = fuzz.trimf(speed.universe, [60, 80, 100])\n",
    "\n",
    "color['red'] = fuzz.trimf(color.universe, [0, 0, 1])\n",
    "color['yellow'] = fuzz.trimf(color.universe, [0, 1, 2])\n",
    "color['yellow_flash'] = fuzz.trimf(color.universe, [1, 2, 3])\n",
    "color['green_flash'] = fuzz.trimf(color.universe, [2, 3,4])\n",
    "color['green'] = fuzz.trimf(color.universe, [3, 4, 5])\n",
    "color['broken'] = fuzz.trimf(color.universe, [4, 5, 6])\n",
    "\n",
    "delta['zero'] = fuzz.trimf(delta.universe, [0, 0, 0])\n",
    "delta['slow'] = fuzz.trimf(delta.universe, [0, 20, 40])\n",
    "delta['can_pass'] = fuzz.trimf(delta.universe, [20, 40, 60])\n",
    "delta['comfortable'] = fuzz.trimf(delta.universe, [40, 60, 80])\n",
    "\n",
    "rule1 = ctrl.Rule(distance['far'] & (speed['too_fast']), delta['comfortable'])\n",
    "rule11 = ctrl.Rule((distance['mid'] | distance['near']) & speed['too_fast'] , delta['can_pass'])\n",
    "rule12 = ctrl.Rule(distance['mid'] & color['green'] & speed['slow'] , delta['comfortable'])\n",
    "rule13 = ctrl.Rule(distance['mid'] & color['red'] , delta['can_pass'])\n",
    "rule14 = ctrl.Rule(distance['mid'] & color['green_flash'] , delta['slow'])\n",
    "rule2 = ctrl.Rule(distance['near'] & color['red'] , delta['zero'])\n",
    "rule3 = ctrl.Rule(distance['near'] & (color['yellow'] | color['yellow_flash'] | color['green_flash']), delta['can_pass'])\n",
    "rule4 = ctrl.Rule(distance['near'] & color['green'], delta['can_pass'])\n",
    "\n",
    "@interact_manual\n",
    "def get_input(speed=100, color=3, distance = 100):\n",
    "    tipping_ctrl = ctrl.ControlSystem([rule1, rule11,rule13, rule14,rule12, rule2, rule3, rule4])\n",
    "    tipping = ctrl.ControlSystemSimulation(tipping_ctrl)\n",
    "    tipping.input['color'] = color\n",
    "    tipping.input['distance'] = distance\n",
    "    tipping.input['speed'] = speed\n",
    "    tipping.compute()\n",
    "    print('Recommended speed',tipping.output['delta'])\n"
   ]
  },
  {
   "cell_type": "code",
   "execution_count": null,
   "metadata": {
    "collapsed": true
   },
   "outputs": [],
   "source": []
  }
 ],
 "metadata": {
  "kernelspec": {
   "display_name": "Python 2",
   "language": "python",
   "name": "python2"
  },
  "language_info": {
   "codemirror_mode": {
    "name": "ipython",
    "version": 2
   },
   "file_extension": ".py",
   "mimetype": "text/x-python",
   "name": "python",
   "nbconvert_exporter": "python",
   "pygments_lexer": "ipython2",
   "version": "2.7.13"
  }
 },
 "nbformat": 4,
 "nbformat_minor": 2
}

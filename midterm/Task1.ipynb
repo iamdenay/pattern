{
 "cells": [
  {
   "cell_type": "code",
   "execution_count": 1,
   "metadata": {},
   "outputs": [
    {
     "name": "stdout",
     "output_type": "stream",
     "text": [
      "A | B | EX1 | EX2 | EX3 | EX4\n",
      "--|---|-----|-----|-----|----\n",
      "1 | 0 | 0   | 1   | 0   | 1  \n",
      "0 | 1 | 1   | 1   | 0   | 1  \n",
      "1 | 1 | 1   | 1   | 1   | 1  \n",
      "0 | 0 | 0   | 0   | 1   | 1  \n"
     ]
    }
   ],
   "source": [
    "import numpy as np                     # Importing stuff\n",
    "import skfuzzy as fuzz                 # Wasting time for unneccessary comments\n",
    "from skfuzzy import control as ctrl    # Again\n",
    "from ipywidgets import interact_manual # Can't stop\n",
    "import ipywidgets as widgets           # ...\n",
    "from pyDatalog import pyDatalog        # I still have an hour\n",
    "\n",
    "# Next functions are used to datermine result of logical expression\n",
    "\n",
    "def exp1(A,B):\n",
    "    return int((A or not A) == B) # I need int() to return 0/1 instead of TRUE/FALSE\n",
    "\n",
    "def exp2(A,B):\n",
    "    return int(A or B)\n",
    "\n",
    "def exp3(A,B):\n",
    "    return int((not A or B) and (not B or A))\n",
    "\n",
    "def exp4(A,B):\n",
    "    return int((A or (B and not A)) or (A or not (B or A)))\n",
    "\n",
    "# Here we create pyDatalog terms for every variable and every function\n",
    "\n",
    "pyDatalog.create_terms(\"A, B, EX1, exp1, EX2, exp2, EX3, EX4,exp3,exp4\");\n",
    "\n",
    "# I can say \"Give me all A in range of 0,1 and all B in range 0,1 where EX1 == and bla bla bla\"\n",
    "\n",
    "print(A.in_(range(2)) & B.in_(range(2)) & (EX1 == exp1(A,B)) & (EX2 == exp2(A,B)) & (EX3 == exp3(A,B)) & (EX4 == exp4(A,B)));\n",
    "\n"
   ]
  },
  {
   "cell_type": "code",
   "execution_count": null,
   "metadata": {
    "collapsed": true
   },
   "outputs": [],
   "source": []
  }
 ],
 "metadata": {
  "kernelspec": {
   "display_name": "Python 2",
   "language": "python",
   "name": "python2"
  },
  "language_info": {
   "codemirror_mode": {
    "name": "ipython",
    "version": 2
   },
   "file_extension": ".py",
   "mimetype": "text/x-python",
   "name": "python",
   "nbconvert_exporter": "python",
   "pygments_lexer": "ipython2",
   "version": "2.7.13"
  }
 },
 "nbformat": 4,
 "nbformat_minor": 2
}

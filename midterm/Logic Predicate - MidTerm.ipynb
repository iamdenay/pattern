{
 "cells": [
  {
   "attachments": {
    "ro_full.png": {
     "image/png": "[encoded data removed]"
    }
   },
   "cell_type": "markdown",
   "metadata": {},
   "source": [
    "# Midterm\n",
    "## Tasks\n",
    "### 1. Make the truth tables of following statements\n",
    "### with the help of PyDatalog:\n",
    "* (A∨¬A)↔B\n",
    "* A∨B\n",
    "* (A→B)∧(B→A)\n",
    "* (A∨(B∧¬A))∨(A∨¬(B∨A))\n",
    "\n",
    "### 2. Calculate the measure of ρ(0.6/b1+0.4/b2+0.7/b3) of following relationship, \n",
    "### norm is operator of multiplication and conorm is max\n",
    "### ![ro_full.png](attachment:ro_full.png)\n",
    "\n",
    "### 3 Make the PyDatalog statements of the following anecdot story of Mark Twain:\n",
    "“After long years as a bachelor I was tired of being alone and married a\n",
    "widow with a grown daughter. My father fell in love with the daughter\n",
    "and took her as his wife. This made me my own son-in-law and my\n",
    "stepdaughter became my mother. After a year my wife gave birth to a\n",
    "son. Now, my son was my father’s brother-in-law and at the same time\n",
    "my uncle, since he was my stepmother’s brother. But my father’s wife also\n",
    "gave birth to a son. So this was my brother and also my grandson, since\n",
    "he was the son of my daughter. This meant I’d married my grandmother,\n",
    "since she was the mother of my mother. As my wife’s husband, I was\n",
    "also her grandson. And since the husband of a grandmother is always a\n",
    "grandfather, I am my own grandfather.”\n",
    "\n",
    "### 4 Using the scikit-fuzzy solve the following control system:\n",
    "The car should move at a speed of at least 60 kmh along the street away from the traffic lights. The car should stop at the intersection on a red traffic light. If the traffic light flashes amber, then the car must cross the intersection at a speed below 40 kmh. If the rules are violated, the car gets into an accident.\n",
    "The traffic light mode: red, red and yellow, green, green flashing, yellow, red, etc.\n",
    "Simplified mode of traffic lights: red, yellow, green, yellow, red, etc.\n",
    "The traffic light may not work (off), the traffic light may flash yellow, the traffic light may be broken (all three signals are switched on simultaneously).\n",
    "The signal from the system of technical vision is not always 100% reliable.\n",
    "The vision system processes video images received from a television camera. The image of the traffic light is recognized during image processing. At the output of the system, a signal is generated from the distance to the traffic light and the color signal of the traffic light. The distance signal to the traffic light is measured in meters. If the traffic light is not found or the distance to it is over 140 m, then the value of this signal is 140 m.\n",
    "Antecednets (Inputs) variables:\n",
    "* distance to the traffic light,\n",
    "* the color of the traffic light,\n",
    "* speed.\n",
    "\n",
    "The Consequents (Outputs) variable is \n",
    "* the speed change.\n",
    "\n"
   ]
  },
  {
   "cell_type": "code",
   "execution_count": 7,
   "metadata": {},
   "outputs": [
    {
     "name": "stdout",
     "output_type": "stream",
     "text": [
      "A | B | EX1 | EX2 | EX3 | EX4\n",
      "--|---|-----|-----|-----|----\n",
      "1 | 1 | 1   | 1   | 1   | 1  \n",
      "0 | 0 | 0   | 0   | 1   | 1  \n",
      "1 | 0 | 0   | 1   | 0   | 1  \n",
      "0 | 1 | 1   | 1   | 0   | 1  \n"
     ]
    }
   ],
   "source": [
    "import numpy as np\n",
    "import skfuzzy as fuzz\n",
    "from skfuzzy import control as ctrl\n",
    "from ipywidgets import interact_manual\n",
    "import ipywidgets as widgets\n",
    "from pyDatalog import pyDatalog\n",
    "\n",
    "def exp1(A,B):\n",
    "    return int((A or not A) == B)\n",
    "\n",
    "def exp2(A,B):\n",
    "    return int(A or B)\n",
    "\n",
    "def exp3(A,B):\n",
    "    return int((not A or B) and (not B or A))\n",
    "\n",
    "def exp4(A,B):\n",
    "    return int((A or (B and not A)) or (A or not (B or A)))\n",
    "\n",
    "pyDatalog.create_terms(\"A, B, EX1, exp1, EX2, exp2, EX3, EX4,exp3,exp4\");\n",
    "\n",
    "print(A.in_(range(2)) & B.in_(range(2)) & (EX1 == exp1(A,B)) & (EX2 == exp2(A,B)) & (EX3 == exp3(A,B)) & (EX4 == exp4(A,B)));\n"
   ]
  },
  {
   "cell_type": "code",
   "execution_count": 14,
   "metadata": {},
   "outputs": [
    {
     "name": "stdout",
     "output_type": "stream",
     "text": [
      "Answer is a3\n"
     ]
    }
   ],
   "source": [
    "\n",
    "arr = [\n",
    "    [0.5, 0.5, 0.2],\n",
    "    [0.2, 0.7, 0.5],\n",
    "    [0.4, 0.1, 0.5],\n",
    "]\n",
    "\n",
    "def calc():\n",
    "    a1 = 0.6 * arr[0][0]\n",
    "    a2 = 0.4 * arr[1][1]\n",
    "    a3 = 0.7 * arr[2][2]\n",
    "    if max(a1,a2,a3) == a1:\n",
    "        return \"a1\"\n",
    "    elif max(a1,a2,a3) == a2:\n",
    "        return \"a2\"\n",
    "    elif max(a1,a2,a3) == a3:\n",
    "        return \"a3\"\n",
    "    \n",
    "print(\"Answer is \" + calc())\n",
    "    "
   ]
  },
  {
   "cell_type": "code",
   "execution_count": null,
   "metadata": {
    "collapsed": true
   },
   "outputs": [],
   "source": []
  },
  {
   "cell_type": "code",
   "execution_count": null,
   "metadata": {
    "collapsed": true
   },
   "outputs": [],
   "source": []
  },
  {
   "cell_type": "code",
   "execution_count": null,
   "metadata": {
    "collapsed": true
   },
   "outputs": [],
   "source": []
  },
  {
   "cell_type": "code",
   "execution_count": null,
   "metadata": {
    "collapsed": true
   },
   "outputs": [],
   "source": []
  }
 ],
 "metadata": {
  "anaconda-cloud": {},
  "kernelspec": {
   "display_name": "Python 2",
   "language": "python",
   "name": "python2"
  },
  "language_info": {
   "codemirror_mode": {
    "name": "ipython",
    "version": 2
   },
   "file_extension": ".py",
   "mimetype": "text/x-python",
   "name": "python",
   "nbconvert_exporter": "python",
   "pygments_lexer": "ipython2",
   "version": "2.7.13"
  }
 },
 "nbformat": 4,
 "nbformat_minor": 2
}

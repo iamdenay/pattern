{
 "cells": [
  {
   "cell_type": "code",
   "execution_count": 2,
   "metadata": {},
   "outputs": [
    {
     "name": "stdout",
     "output_type": "stream",
     "text": [
      "Answer is a3\n"
     ]
    }
   ],
   "source": [
    "import numpy as np\n",
    "import skfuzzy as fuzz\n",
    "from skfuzzy import control as ctrl\n",
    "from ipywidgets import interact_manual\n",
    "import ipywidgets as widgets\n",
    "from pyDatalog import pyDatalog\n",
    "\n",
    "# Beautiful array creation c:\n",
    "\n",
    "arr = [\n",
    "    [0.5, 0.5, 0.2],\n",
    "    [0.2, 0.7, 0.5],\n",
    "    [0.4, 0.1, 0.5],\n",
    "]\n",
    "\n",
    "\n",
    "def calc():\n",
    "    a1 = 0.6 * arr[0][0] # Here I am trying to imagine at least one thing that I should explain c:\n",
    "    a2 = 0.4 * arr[1][1] # Here I am telling you that everything is calculated by hand\n",
    "    a3 = 0.7 * arr[2][2] # Apologies :p\n",
    "    \n",
    "    if max(a1,a2,a3) == a1: # Looking for maximum a\n",
    "        return \"a1\"\n",
    "    elif max(a1,a2,a3) == a2:\n",
    "        return \"a2\"\n",
    "    elif max(a1,a2,a3) == a3: # I know that maximum is a3\n",
    "        return \"a3\"\n",
    "    \n",
    "print(\"Answer is \" + calc())\n",
    "    "
   ]
  },
  {
   "cell_type": "code",
   "execution_count": null,
   "metadata": {
    "collapsed": true
   },
   "outputs": [],
   "source": []
  }
 ],
 "metadata": {
  "kernelspec": {
   "display_name": "Python 2",
   "language": "python",
   "name": "python2"
  },
  "language_info": {
   "codemirror_mode": {
    "name": "ipython",
    "version": 2
   },
   "file_extension": ".py",
   "mimetype": "text/x-python",
   "name": "python",
   "nbconvert_exporter": "python",
   "pygments_lexer": "ipython2",
   "version": "2.7.13"
  }
 },
 "nbformat": 4,
 "nbformat_minor": 2
}

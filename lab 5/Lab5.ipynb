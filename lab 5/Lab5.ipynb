{
 "cells": [
  {
   "cell_type": "markdown",
   "metadata": {},
   "source": [
    "## Pattern recognition: Lab 5\n",
    "### Tasks:\n",
    "* Plot the error\n",
    "* Model XOR with the help of sigmoid\n",
    "* Add moments rule to learning equation\n"
   ]
  },
  {
   "cell_type": "code",
   "execution_count": 2,
   "metadata": {},
   "outputs": [
    {
     "name": "stdout",
     "output_type": "stream",
     "text": [
      "('epochs:', 0)\n",
      "('epochs:', 10000)\n",
      "('epochs:', 20000)\n",
      "('epochs:', 30000)\n",
      "('epochs:', 40000)\n",
      "('epochs:', 50000)\n",
      "('epochs:', 60000)\n",
      "('epochs:', 70000)\n",
      "('epochs:', 80000)\n",
      "('epochs:', 90000)\n",
      "(array([0, 0]), 0)\n",
      "(array([0, 1]), 1)\n",
      "(array([1, 0]), 1)\n",
      "(array([1, 1]), 0)\n"
     ]
    },
    {
     "data": {
      "image/png": "[encoded data removed]",
      "text/plain": [
       "<matplotlib.figure.Figure at 0x10584fc50>"
      ]
     },
     "metadata": {},
     "output_type": "display_data"
    }
   ],
   "source": [
    "import numpy as np\n",
    "import matplotlib.pyplot as plt\n",
    "\n",
    "def sigmoid(x):\n",
    "    return 1.0/(1.0 + np.exp(-x))\n",
    "\n",
    "def sigmoid_prime(x):\n",
    "    return sigmoid(x)*(1.0-sigmoid(x))\n",
    "\n",
    "def tanh(x):\n",
    "    return np.tanh(x)\n",
    "\n",
    "def tanh_prime(x):\n",
    "    return 1.0 - x**2\n",
    "\n",
    "\n",
    "class NeuralNetwork:\n",
    "\n",
    "    def __init__(self, layers):\n",
    "        \n",
    "        self.weights = []   \n",
    "        self.errors = []\n",
    "        self.activation = sigmoid\n",
    "        self.activation_prime = sigmoid_prime\n",
    "        \n",
    "        for i in range(1, len(layers) - 1):\n",
    "            r = 2*np.random.random((layers[i-1] + 1, layers[i] + 1)) - 1 #input\n",
    "            self.weights.append(r)\n",
    "            r = 2*np.random.random( (layers[i] + 1, layers[i+1])) - 1 #output\n",
    "            self.weights.append(r)\n",
    "                        \n",
    "    def fit(self, X, y, learning_rate=0.2, epochs=100000, momentum=1):\n",
    "\n",
    "        ones = np.atleast_2d(np.ones(X.shape[0]))\n",
    "        X = np.concatenate((ones.T, X), axis=1)\n",
    "         \n",
    "        for k in range(epochs):\n",
    "            allError = 0;\n",
    "            for i in range(X.shape[0]):\n",
    "                a = [X[i]]\n",
    "\n",
    "                for l in range(len(self.weights)):\n",
    "                    dot_value = np.dot(a[l], self.weights[l])\n",
    "                    activation = self.activation(dot_value)\n",
    "                    a.append(activation)\n",
    "                # output layer\n",
    "                error = y[i]\n",
    "                if a[-1] > 0.5:\n",
    "                    error -= 1\n",
    "                allError += abs(error)\n",
    "                deltas = [error * self.activation_prime(a[-1])]\n",
    "\n",
    "                for l in range(len(a) - 2, 0, -1): \n",
    "                    deltas.append(deltas[-1].dot(self.weights[l].T)*self.activation_prime(a[l]))\n",
    "\n",
    "                deltas.reverse()\n",
    "\n",
    "                prev_weights_delta = [0] * len(self.weights)\n",
    "                for i in range(len(self.weights)):\n",
    "                    layer = np.atleast_2d(a[i])\n",
    "                    delta = np.atleast_2d(deltas[i])\n",
    "                    \n",
    "                    delta = learning_rate * layer.T.dot(delta)\n",
    "                    self.weights[i] += delta\n",
    "                    self.weights[i] += momentum * prev_weights_delta[i]\n",
    "                    prev_weights_delta[i] = delta\n",
    "                                        \n",
    "            self.errors.append(allError/4)\n",
    "\n",
    "            if k % 10000 == 0: \n",
    "                print('epochs:', k)\n",
    "                \n",
    "    def predict(self, x): \n",
    "    \n",
    "        a = np.concatenate((np.ones(1).T, np.array(x)))\n",
    "\n",
    "        for l in range(0, len(self.weights)):\n",
    "            a = self.activation(np.dot(a, self.weights[l]))\n",
    "        \n",
    "        res = 0\n",
    "        if a > 0.5:\n",
    "            res = 1\n",
    "        return res\n",
    "\n",
    "if __name__ == '__main__':\n",
    "\n",
    "    nn = NeuralNetwork([2,2,1])\n",
    "    X = np.array([[0, 0],\n",
    "                  [0, 1],\n",
    "                  [1, 0],\n",
    "                  [1, 1]])\n",
    "    y = np.array([0, 1, 1, 0])\n",
    "    nn.fit(X, y)\n",
    "    for e in X:\n",
    "        print(e,nn.predict(e))\n",
    "        \n",
    "    plt.plot(range(len(nn.errors)),nn.errors)\n",
    "    plt.show()\n",
    "    "
   ]
  },
  {
   "cell_type": "code",
   "execution_count": null,
   "metadata": {
    "collapsed": true
   },
   "outputs": [],
   "source": []
  }
 ],
 "metadata": {
  "anaconda-cloud": {},
  "kernelspec": {
   "display_name": "Python 2",
   "language": "python",
   "name": "python2"
  },
  "language_info": {
   "codemirror_mode": {
    "name": "ipython",
    "version": 2
   },
   "file_extension": ".py",
   "mimetype": "text/x-python",
   "name": "python",
   "nbconvert_exporter": "python",
   "pygments_lexer": "ipython2",
   "version": "2.7.13"
  }
 },
 "nbformat": 4,
 "nbformat_minor": 2
}
